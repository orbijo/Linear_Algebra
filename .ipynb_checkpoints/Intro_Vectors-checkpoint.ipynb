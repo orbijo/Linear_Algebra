{
 "cells": [
  {
   "cell_type": "markdown",
   "id": "783d8b53-9a46-4157-add8-91b9b54088ae",
   "metadata": {},
   "source": [
    "#### 1. Let $\\textbf{u} = (1, -2, 4)$ and $\\textbf{v} = (3,5,1)$ $\\textbf{w} = (2,1,-3)$ find:<br>"
   ]
  },
  {
   "cell_type": "markdown",
   "id": "e8048b29-20a8-4ce8-8b90-771041723aab",
   "metadata": {},
   "source": [
    "##### Manual Solution to 1"
   ]
  },
  {
   "cell_type": "markdown",
   "id": "8e87dee9-c15c-4694-84cf-5525b3a67f50",
   "metadata": {},
   "source": [
    "a. $3\\textbf{u}-2\\textbf{v}$<br>\n",
    "$= 3\\textbf{u}-2\\textbf{v} = 3(1, -2, 4) - 2(3, 5, 1)$<br>\n",
    "$= (3, -6, 12) - (6, 10, 2)$<br>\n",
    "$= (-3, -16, 10)$<br>"
   ]
  },
  {
   "cell_type": "markdown",
   "id": "fb5d448f-2e89-4a2e-ace4-181256927cd0",
   "metadata": {},
   "source": [
    "b. $5\\textbf{u}+3\\textbf{v}-4\\textbf{w}$<br>\n",
    "$= 5(1,-2,4) + 3(3,5,1) - 4(2,1,-3)$<br>\n",
    "$= (14, 5, 23) - (8, 4, -12)$<br>\n",
    "$= (6, 1, 35)$<br>"
   ]
  },
  {
   "cell_type": "markdown",
   "id": "4b7d4658-6b61-48eb-8237-6f2af1897fbb",
   "metadata": {},
   "source": [
    "c. $\\textbf{u} \\cdotp \\textbf{v}$,$\\textbf{v} \\cdotp \\textbf{w}$, $\\textbf{u} \\cdotp \\textbf{w}$<br>\n",
    " $\\textbf{u} \\cdotp \\textbf{v} = 1(3)-2(5)+4(1)=-3$<br>\n",
    " $\\textbf{v} \\cdotp \\textbf{w} = 3(2)+5(1)+1(-3)=8$<br>\n",
    " $\\textbf{u} \\cdotp \\textbf{w} = 1(2)-2(1)+4(-3)=-12$<br>"
   ]
  },
  {
   "cell_type": "markdown",
   "id": "52eac939-dfaa-4587-994e-613c98378999",
   "metadata": {},
   "source": [
    "d. ||$\\textbf{u}$||, ||$\\textbf{v}$||, ||$\\textbf{w}$||<br>\n",
    "||$\\textbf{u}$|| = $\\sqrt{\\textbf{u}.\\textbf{u}} = \\sqrt{1^{2}+(-2)^{2}+4^{2}}$ = $\\sqrt{21}$<br>\n",
    "||$\\textbf{v}$|| = $\\sqrt{\\textbf{v}.\\textbf{v}} = \\sqrt{3^{2}+5^{2}+1^{2}}$ = $\\sqrt{35}$<br>\n",
    "||$\\textbf{w}$|| = $\\sqrt{\\textbf{w}.\\textbf{w}} = \\sqrt{2^{2}+1^{2}+(-3)^{2}}$ = $\\sqrt{14}$<br>"
   ]
  },
  {
   "cell_type": "markdown",
   "id": "a6a73db4-94ed-4582-a88e-fd858fab0c77",
   "metadata": {},
   "source": [
    "e. If $\\theta$ is the angle between $\\textbf{u}$  and   $\\textbf{v}$, find $\\cos{\\theta}$.<br>\n",
    "$\\cos{\\theta}\n",
    "=\\frac{\\textbf{u} \\cdotp \\textbf{v}}{||\\textbf{u}|| \\ ||\\textbf{v}||}$\n",
    "$=\\frac{1(3)-2(5)+4(1)}{\\sqrt{1^{2}+(-2)^{2}+4^{2}}\\sqrt{3^{2}+5^{2}+1^{2}}}$\n",
    "$=-\\frac{3}{\\sqrt{21}\\sqrt{35}}$"
   ]
  },
  {
   "cell_type": "markdown",
   "id": "08bc6ef7-94b9-40c5-9209-548525aa81aa",
   "metadata": {},
   "source": [
    "f. If $\\alpha$ is the angle between $\\textbf{v}$  and   $\\textbf{w}$, find $\\cos{\\alpha}$.<br>\n",
    "$\\cos{\\alpha}\n",
    "=\\frac{\\textbf{v} \\cdotp \\textbf{w}}{||\\textbf{v}|| \\ ||\\textbf{w}||}$\n",
    "$=\\frac{1(3)-2(5)+4(1)}{\\sqrt{3^{2}+5^{2}+1^{2}}\\sqrt{2^{2}+1^{2}+(-3)^{2}}}$\n",
    "$=\\frac{8}{\\sqrt{35}\\sqrt{14}}$"
   ]
  },
  {
   "cell_type": "markdown",
   "id": "2e33d10b-bdc1-413c-a9c0-d7f0977ca214",
   "metadata": {},
   "source": [
    "g. If $\\beta$ is the angle between $\\textbf{u}$  and   $\\textbf{w}$, find $\\cos{\\beta}$.<br>\n",
    "$\\cos{\\beta}\n",
    "=\\frac{\\textbf{u} \\cdotp \\textbf{w}}{||\\textbf{u}|| \\ ||\\textbf{w}||}$\n",
    "$=\\frac{1(2)-2(1)+4(-3)}{\\sqrt{1^{2}+(-2)^{2}+4^{2}}\\sqrt{2^{2}+1^{2}+(-3)^{2}}}$\n",
    "$=-\\frac{12}{\\sqrt{21}\\sqrt{14}}$"
   ]
  },
  {
   "cell_type": "markdown",
   "id": "6b6b1542-5856-4c49-8e29-6cf8ad9fb062",
   "metadata": {},
   "source": [
    "h. Find $d(\\textbf{u},\\textbf{v})$.<br>\n",
    "$d(\\textbf{u},\\textbf{v}) = ||\\textbf{u} - \\textbf{v}|| = \\sqrt{(1-3)^2 + (-2-5)^2 + (4-1)^2} = \\sqrt{4+49+9} = \\sqrt{62}$."
   ]
  },
  {
   "cell_type": "markdown",
   "id": "0f57be3b-0120-43c4-b1bc-ee575f26f044",
   "metadata": {},
   "source": [
    "i. Find $d(\\textbf{w},\\textbf{v})$.<br>\n",
    "$d(\\textbf{u},\\textbf{w}) = ||\\textbf{u} - \\textbf{w}|| = \\sqrt{(2-3)^2 + (1-5)^2 + (-3-1)^2} = \\sqrt{1+16+16} = \\sqrt{33}$."
   ]
  },
  {
   "cell_type": "markdown",
   "id": "349165e4-a823-4b5d-ae58-7940bfb5dac2",
   "metadata": {},
   "source": [
    "j. Find $d(\\textbf{u},\\textbf{w})$.<br>\n",
    "$d(\\textbf{u},\\textbf{w}) = ||\\textbf{u} - \\textbf{w}|| = \\sqrt{(1-2)^2 + (-2-1)^2 + (4-(-3))^2} = \\sqrt{1+9+49} = \\sqrt{59}$.<br>"
   ]
  },
  {
   "cell_type": "markdown",
   "id": "e6eb3c04-3499-45ca-8e92-92593548053b",
   "metadata": {},
   "source": [
    "k. Find $proj(\\textbf{u},\\textbf{v})$.<br>\n",
    "$proj(\\textbf{u},\\textbf{v}) = \\frac{\\textbf{u} \\cdotp \\textbf{v}}{||\\textbf{v}||^2} \\textbf{v} = \\frac{-3}{(\\sqrt{35})^2}(3,5,1) =-\\frac{3}{35}(3,5,1) = (-\\frac{9}{35},-\\frac{15}{35},-\\frac{3}{35})$"
   ]
  },
  {
   "cell_type": "markdown",
   "id": "b8c9f686-5658-4a71-b1d5-1ee2d4c739f9",
   "metadata": {},
   "source": [
    "l. Find $proj(\\textbf{w},\\textbf{v})$.<br>\n",
    "$proj(\\textbf{w},\\textbf{v}) = \\frac{\\textbf{w} \\cdotp \\textbf{v}}{||\\textbf{v}||^2} \\textbf{v} = \\frac{8}{(\\sqrt{35})^2}(3,5,1) =\\frac{8}{35}(3,5,1) = (\\frac{32}{35},\\frac{8}{7},\\frac{8}{35})$"
   ]
  },
  {
   "cell_type": "markdown",
   "id": "201f53fb-1efe-4417-be3f-62ca44e73c5b",
   "metadata": {},
   "source": [
    "m. Find $proj(\\textbf{u},\\textbf{w})$. <br>\n",
    "$proj(\\textbf{u},\\textbf{w}) = \\frac{\\textbf{u} \\cdotp \\textbf{w}}{||\\textbf{w}||^2} \\textbf{w} = \\frac{-12}{(\\sqrt{14})^2}(2,1,-3) =\\frac{-12}{14}(2,1,-3) = -\\frac{6}{7}(2,1,-3) = (-\\frac{12}{7},-\\frac{6}{7},\\frac{18}{7})$"
   ]
  },
  {
   "cell_type": "markdown",
   "id": "9be13780-5229-4919-a24e-0ed642d2bef4",
   "metadata": {
    "jp-MarkdownHeadingCollapsed": true
   },
   "source": [
    "##### Pythonic Solution"
   ]
  },
  {
   "cell_type": "code",
   "execution_count": 19,
   "id": "07c84fda-23df-4f20-a16f-f09fcb217aa7",
   "metadata": {},
   "outputs": [
    {
     "name": "stdout",
     "output_type": "stream",
     "text": [
      "3u - 2v:  [ -3 -16  10]\n",
      "5u + 3v -4w:  [ 6  1 35]\n",
      "u.v, v.w, u.w:  -3 ,  8 ,  -12\n",
      "||u||, ||v||, ||w||:  4.58257569495584 ,  5.916079783099616 ,  3.7416573867739413\n",
      "cosθ = (u.v)/||u||||v||:  -0.11065666703449763\n",
      "cosα = (v.w)/||v||||w||:  0.36140316116210053\n",
      "cosβ = (u.w)/||u||||w||:  -0.6998542122237653\n",
      "d(u,v):  7.874007874011811\n",
      "d(w,v):  5.744562646538029\n",
      "d(u,w):  7.681145747868608\n",
      "proj(u, v) [-0.25714286 -0.42857143 -0.08571429]\n",
      "proj(w, v) [0.68571429 1.14285714 0.22857143]\n",
      "proj(u, w) [-1.71428571 -0.85714286  2.57142857]\n"
     ]
    }
   ],
   "source": [
    "import numpy as np\n",
    "u = np.array([1, -2, 4])   # vector u\n",
    "v = np.array([3,5,1])   # vector v\n",
    "w = np.array([2,1,-3])   # vector w\n",
    "\n",
    "print(\"3u - 2v: \", (3*u) - (2*v))\n",
    "print(\"5u + 3v -4w: \", (5*u) + (3*v) - (4*w))\n",
    "print(\"u.v, v.w, u.w: \", u.dot(v),\", \", v.dot(w),\", \", u.dot(w))\n",
    "print(\"||u||, ||v||, ||w||: \", np.sqrt(u.dot(u)),\", \", np.sqrt(v.dot(v)),\", \", np.sqrt(w.dot(w)))\n",
    "print(\"cosθ = (u.v)/||u||||v||: \", u.dot(v) / (np.linalg.norm(u) * np.linalg.norm(v)))\n",
    "print(\"cosα = (v.w)/||v||||w||: \", v.dot(w) / (np.linalg.norm(v) * np.linalg.norm(w)))\n",
    "print(\"cosβ = (u.w)/||u||||w||: \", u.dot(w) / (np.linalg.norm(u) * np.linalg.norm(w)))\n",
    "print(\"d(u,v): \", np.linalg.norm(u-v))\n",
    "print(\"d(w,v): \", np.linalg.norm(w-v))\n",
    "print(\"d(u,w): \", np.linalg.norm(u-w))\n",
    "print(\"proj(u, v)\", u.dot(v)*v/(np.linalg.norm(v)**2))\n",
    "print(\"proj(w, v)\", w.dot(v)*v/(np.linalg.norm(v)**2))\n",
    "print(\"proj(u, w)\", u.dot(w)*w/(np.linalg.norm(w)**2))"
   ]
  },
  {
   "cell_type": "markdown",
   "id": "773cc532-88c1-498f-8900-906b2411df17",
   "metadata": {},
   "source": [
    "#### 2. Repeat problem 1 with the following column vectors:\n",
    "\\begin{align}\n",
    "    \\textbf{u} &= \\begin{bmatrix}\n",
    "           1 \\\\\n",
    "           3 \\\\\n",
    "           -4\n",
    "         \\end{bmatrix}, \\textbf{v} = \\begin{bmatrix}\n",
    "           2 \\\\\n",
    "           1 \\\\\n",
    "           5\n",
    "         \\end{bmatrix}, \\textbf{w} = \\begin{bmatrix}\n",
    "           3 \\\\\n",
    "           -2 \\\\\n",
    "           6\n",
    "         \\end{bmatrix}\n",
    "  \\end{align}"
   ]
  },
  {
   "cell_type": "markdown",
   "id": "2359fdfc-e423-46f4-aeba-0224c679198e",
   "metadata": {},
   "source": [
    "##### Manual Solution to 2"
   ]
  },
  {
   "cell_type": "markdown",
   "id": "48005f05-5e7e-4d93-8290-4f8b66bc3497",
   "metadata": {},
   "source": [
    "a. $3\\textbf{u}-2\\textbf{v}$<br>\n",
    "Solution:\n",
    "\\begin{align}\n",
    "    3\\textbf{u}-2\\textbf{v} &= 3\\begin{bmatrix}\n",
    "           1 \\\\\n",
    "           3 \\\\\n",
    "           -4\n",
    "         \\end{bmatrix} - 2 \\begin{bmatrix}\n",
    "           2 \\\\\n",
    "           1 \\\\\n",
    "           5\n",
    "         \\end{bmatrix}= \\begin{bmatrix}\n",
    "           3 \\\\\n",
    "           9 \\\\\n",
    "           -12\n",
    "         \\end{bmatrix} - \\begin{bmatrix}\n",
    "           4 \\\\\n",
    "           2 \\\\\n",
    "           10\n",
    "         \\end{bmatrix} = \\begin{bmatrix}\n",
    "           -1 \\\\\n",
    "           7 \\\\\n",
    "           -22\n",
    "         \\end{bmatrix}\n",
    "  \\end{align}"
   ]
  },
  {
   "cell_type": "markdown",
   "id": "79c19926-e610-40ed-8111-6b2d47d06538",
   "metadata": {},
   "source": [
    "c. $\\textbf{u} \\cdotp \\textbf{v}$,$\\textbf{v} \\cdotp \\textbf{w}$, $\\textbf{u} \\cdotp \\textbf{w}$<br>\n",
    " $\\textbf{u} \\cdotp \\textbf{v} = 1(2)+3(1)-4(5)=-15$<br>\n",
    " $\\textbf{v} \\cdotp \\textbf{w} = 2(3)+1(-2)+5(6)=34$<br>\n",
    " $\\textbf{u} \\cdotp \\textbf{w} = 1(3)+3(-2)-4(6)=-27$<br>"
   ]
  },
  {
   "cell_type": "markdown",
   "id": "93839457-02e4-4fb2-b294-061ef4167fa0",
   "metadata": {},
   "source": [
    "d. ||$\\textbf{u}$||, ||$\\textbf{v}$||, ||$\\textbf{w}$||<br>\n",
    "||$\\textbf{u}$|| = $\\sqrt{\\textbf{u}.\\textbf{u}} = \\sqrt{1^{2}+3^{2}+(-4)^{2}}$ = $\\sqrt{26}$<br>\n",
    "||$\\textbf{v}$|| = $\\sqrt{\\textbf{v}.\\textbf{v}} = \\sqrt{2^{2}+1^{2}+5^{2}}$ = $\\sqrt{30}$<br>\n",
    "||$\\textbf{w}$|| = $\\sqrt{\\textbf{w}.\\textbf{w}} = \\sqrt{3^{2}+(-2)^{2}+6^{2}}$ = $\\sqrt{49} = 7$<br>"
   ]
  },
  {
   "cell_type": "markdown",
   "id": "a69c790e-db1c-403b-baed-d462a3479fe1",
   "metadata": {},
   "source": [
    "e. If $\\theta$ is the angle between $\\textbf{u}$  and   $\\textbf{v}$, find $\\cos{\\theta}$.<br>\n",
    "$\\cos{\\theta}\n",
    "=\\frac{\\textbf{u} \\cdotp \\textbf{v}}{||\\textbf{u}|| \\ ||\\textbf{v}||}$\n",
    "$=\\frac{2(3)+1(-2)+5(6)}{\\sqrt{2^{2}+1^{2}+5^{2}}\\sqrt{3^{2}+(-2)^{2}+6^{2}}}$\n",
    "$=\\frac{34}{7\\sqrt{30}}$"
   ]
  },
  {
   "cell_type": "markdown",
   "id": "4e8cab7a-10bd-4426-8b9a-38cbd1bdbf2d",
   "metadata": {},
   "source": [
    "f. If $\\alpha$ is the angle between $\\textbf{v}$  and   $\\textbf{w}$, find $\\cos{\\alpha}$.<br>\n",
    "$\\cos{\\alpha}\n",
    "=\\frac{\\textbf{v} \\cdotp \\textbf{w}}{||\\textbf{v}|| \\ ||\\textbf{w}||}$\n",
    "$=\\frac{2(3)+1(-2)+5(6)}{\\sqrt{2^{2}+1^{2}+5^{2}}\\sqrt{3^{2}+(-2)^{2}+6^{2}}}$\n",
    "$=\\frac{34}{7\\sqrt{30}}$"
   ]
  },
  {
   "cell_type": "markdown",
   "id": "04e988e6-5aa0-410b-bb67-c050d87687b6",
   "metadata": {},
   "source": [
    "g. If $\\beta$ is the angle between $\\textbf{u}$  and   $\\textbf{w}$, find $\\cos{\\beta}$.<br>\n",
    "$\\cos{\\beta}\n",
    "=\\frac{\\textbf{u} \\cdotp \\textbf{w}}{||\\textbf{u}|| \\ ||\\textbf{w}||}$\n",
    "$=\\frac{1(3)+3(-2)-4(6)}{\\sqrt{1^{2}+3^{2}+(-4)^{2}}\\sqrt{3^{2}+(-2)^{2}+6^{2}}}$\n",
    "$=-\\frac{27}{7\\sqrt{26}}$"
   ]
  },
  {
   "cell_type": "markdown",
   "id": "12d0d9df-be71-4c77-83d3-b2bbbfbfd179",
   "metadata": {},
   "source": [
    "h. Find $d(\\textbf{u},\\textbf{v})$.<br>\n",
    "$d(\\textbf{u},\\textbf{v}) = ||\\textbf{u} - \\textbf{v}|| = \\sqrt{(1-2)^2 + (3-1)^2 + ((-4)-5)^2} = \\sqrt{1+4+81} = \\sqrt{86}$."
   ]
  },
  {
   "cell_type": "markdown",
   "id": "48839dc2-052e-4892-8595-0b5e14300521",
   "metadata": {},
   "source": [
    "i. Find $d(\\textbf{w},\\textbf{v})$.<br>\n",
    "$d(\\textbf{u},\\textbf{w}) = ||\\textbf{u} - \\textbf{w}|| = \\sqrt{(3-2)^2 + ((-2)-1)^2 + (6-5)^2} = \\sqrt{1+9+1} = \\sqrt{11}$."
   ]
  },
  {
   "cell_type": "markdown",
   "id": "cf53b202-77aa-4898-9118-35c729054045",
   "metadata": {},
   "source": [
    "j. Find $d(\\textbf{u},\\textbf{w})$.<br>\n",
    "$d(\\textbf{u},\\textbf{w}) = ||\\textbf{u} - \\textbf{w}|| = \\sqrt{(1-3)^2 + (3-(-2))^2 + ((-4)-6)^2} = \\sqrt{4+25+100} = \\sqrt{129}$.<br>"
   ]
  },
  {
   "cell_type": "markdown",
   "id": "6db34896-f12b-4904-bedb-f0626130108d",
   "metadata": {},
   "source": [
    "k. Find $proj(\\textbf{u},\\textbf{v})$.<br>\n",
    "$proj(\\textbf{u},\\textbf{v}) = \\frac{\\textbf{u} \\cdotp \\textbf{v}}{||\\textbf{v}||^2} \\textbf{v} = \\frac{-15}{(\\sqrt{30})^2}\\begin{bmatrix}\n",
    "           2 \\\\\n",
    "           1 \\\\\n",
    "           5\n",
    "         \\end{bmatrix} =-\\frac{1}{2}\\begin{bmatrix}\n",
    "           2 \\\\\n",
    "           1 \\\\\n",
    "           5\n",
    "         \\end{bmatrix} = \\begin{bmatrix}\n",
    "           -1 \\\\\n",
    "           -\\frac{1}{2} \\\\\n",
    "           -\\frac{5}{2}\n",
    "         \\end{bmatrix}$"
   ]
  },
  {
   "cell_type": "markdown",
   "id": "f5c6195c-cc6c-4ad8-a5e5-f667b5fa8934",
   "metadata": {},
   "source": [
    "l. Find $proj(\\textbf{w},\\textbf{v})$.<br>\n",
    "$proj(\\textbf{w},\\textbf{v}) = \\frac{\\textbf{w} \\cdotp \\textbf{v}}{||\\textbf{v}||^2} \\textbf{v} = \\frac{34}{(\\sqrt{30})^2}\\begin{bmatrix}\n",
    "           2 \\\\\n",
    "           1 \\\\\n",
    "           5\n",
    "         \\end{bmatrix} =\\frac{17}{15}\\begin{bmatrix}\n",
    "           2 \\\\\n",
    "           1 \\\\\n",
    "           5\n",
    "         \\end{bmatrix} = \\begin{bmatrix}\n",
    "           \\frac{34}{15} \\\\\n",
    "           \\frac{17}{15} \\\\\n",
    "           \\frac{17}{3}\n",
    "         \\end{bmatrix}$"
   ]
  },
  {
   "cell_type": "markdown",
   "id": "0b761afe-3dab-4a32-a609-e727c0f7b7ed",
   "metadata": {},
   "source": [
    "m. Find $proj(\\textbf{u},\\textbf{w})$. <br>\n",
    "$proj(\\textbf{u},\\textbf{v}) = \\frac{\\textbf{u} \\cdotp \\textbf{v}}{||\\textbf{v}||^2} \\textbf{v} = \\frac{-27}{(7)^2}\\begin{bmatrix}\n",
    "           3 \\\\\n",
    "           -2 \\\\\n",
    "           6\n",
    "         \\end{bmatrix} =-\\frac{27}{49}\\begin{bmatrix}\n",
    "           3 \\\\\n",
    "           -2 \\\\\n",
    "           6\n",
    "         \\end{bmatrix} = \\begin{bmatrix}\n",
    "           -\\frac{81}{49} \\\\\n",
    "           \\frac{54}{49} \\\\\n",
    "           -\\frac{162}{49}\n",
    "         \\end{bmatrix}$"
   ]
  },
  {
   "cell_type": "markdown",
   "id": "6f63bf41-a122-4fa3-a6e0-3d4085d57a49",
   "metadata": {},
   "source": [
    "##### Pythonic Solution to 2"
   ]
  },
  {
   "cell_type": "code",
   "execution_count": 20,
   "id": "be42cd97-6dbd-4d16-8329-b33cdbfc15a9",
   "metadata": {},
   "outputs": [
    {
     "name": "stdout",
     "output_type": "stream",
     "text": [
      "3u - 2v:  [ -1   7 -22]\n",
      "5u + 3v -4w:  [ -1  26 -29]\n",
      "u.v, v.w, u.w:  -15 ,  34 ,  -27\n",
      "||u||, ||v||, ||w||:  5.0990195135927845 ,  5.477225575051661 ,  7.0\n",
      "cosθ = (u.v)/||u||||v||:  -0.5370861555295747\n",
      "cosα = (v.w)/||v||||w||:  0.8867889026274118\n",
      "cosβ = (u.w)/||u||||w||:  -0.7564479498187099\n",
      "d(u,v):  9.273618495495704\n",
      "d(w,v):  3.3166247903554\n",
      "d(u,w):  11.357816691600547\n",
      "proj(u, v) [-1.  -0.5 -2.5]\n",
      "proj(w, v) [2.26666667 1.13333333 5.66666667]\n",
      "proj(u, w) [-1.65306122  1.10204082 -3.30612245]\n"
     ]
    }
   ],
   "source": [
    "import numpy as np\n",
    "u = np.array([1, 3, -4]).T   # vector u\n",
    "v = np.array([2,1,5]).T   # vector v\n",
    "w = np.array([3,-2,6]).T   # vector w\n",
    "\n",
    "print(\"3u - 2v: \", (3*u) - (2*v))\n",
    "print(\"5u + 3v -4w: \", (5*u) + (3*v) - (4*w))\n",
    "print(\"u.v, v.w, u.w: \", u.dot(v),\", \", v.dot(w),\", \", u.dot(w))\n",
    "print(\"||u||, ||v||, ||w||: \", np.sqrt(u.dot(u)),\", \", np.sqrt(v.dot(v)),\", \", np.sqrt(w.dot(w)))\n",
    "print(\"cosθ = (u.v)/||u||||v||: \", u.dot(v) / (np.linalg.norm(u) * np.linalg.norm(v)))\n",
    "print(\"cosα = (v.w)/||v||||w||: \", v.dot(w) / (np.linalg.norm(v) * np.linalg.norm(w)))\n",
    "print(\"cosβ = (u.w)/||u||||w||: \", u.dot(w) / (np.linalg.norm(u) * np.linalg.norm(w)))\n",
    "print(\"d(u,v): \", np.linalg.norm(u-v))\n",
    "print(\"d(w,v): \", np.linalg.norm(w-v))\n",
    "print(\"d(u,w): \", np.linalg.norm(u-w))\n",
    "print(\"proj(u, v)\", u.dot(v)*v/(np.linalg.norm(v)**2))\n",
    "print(\"proj(w, v)\", w.dot(v)*v/(np.linalg.norm(v)**2))\n",
    "print(\"proj(u, w)\", u.dot(w)*w/(np.linalg.norm(w)**2))"
   ]
  },
  {
   "cell_type": "markdown",
   "id": "b15e045f-43d0-4eb5-8bab-930df9e736ba",
   "metadata": {},
   "source": [
    "#### 3. Let $\\textbf{u} = (2,-5,4,6,-3)$, $\\textbf{v} = (5,-2,1,-7,-4)$, and $\\textbf{w} = (2,1,-3)$ find:<br>"
   ]
  },
  {
   "cell_type": "markdown",
   "id": "946cb169-1998-4624-8917-3cb8071a9972",
   "metadata": {},
   "source": [
    "a. $ 4\\textbf{u} - 3\\textbf{v} $ <br>\n",
    "$= 4(2, -5, 4,6,-3) - 3(5,-2,1,-7,-4)$ <br>\n",
    "$= (8, -20, 16,24,-12) - (15,-6,3,-21,-12)$ <br>\n",
    "$= (-7, -14, 13,45,0)$ <br>"
   ]
  },
  {
   "cell_type": "markdown",
   "id": "022c688e-5d82-4a9f-a5e1-a01285f7c8dc",
   "metadata": {},
   "source": [
    "b. $ 5\\textbf{u} + 2\\textbf{v} - 2\\textbf{w} $ <br>\n",
    "$= 5(2, -5, 4,6,-3) + 2(5,-2,1,-7,-4) - 2(2,1,-3)$ <br>\n",
    "$= (10, -25, 20,30,-15) + (10,-4,2,-14,-6) - (4,2,-6)$ <br>\n",
    "$= (20, -29, 22,16,-23) - (4,2,-6)$ <br>\n",
    "$= (16, -31, 28,16,-23)$ <br>"
   ]
  },
  {
   "cell_type": "markdown",
   "id": "dc07bf10-d667-4f38-8b89-5d8066a9e50f",
   "metadata": {},
   "source": [
    "c. $\\textbf{u} \\cdotp \\textbf{v}$,$\\textbf{v} \\cdotp \\textbf{w}$, $\\textbf{u} \\cdotp \\textbf{w}$<br>\n",
    "- $\\textbf{u} \\cdotp \\textbf{v}$\n",
    "= $ 2(5) + (-5)(-2) + 4(1) + 6(-7) + (-3)(-4) $<br>\n",
    "= $ 10 + 10 + 4 - 42 + 12 $<br>\n",
    "= $ -6 $<br>\n",
    "\n",
    "- $\\textbf{v} \\cdotp \\textbf{w}$\n",
    "= $ 5(2) + (-2)(1) + 1(3) + (-7)(0) + (-4)(0) $<br>\n",
    "= $ 10 - 2 + 3 $<br>\n",
    "= $ 5 $<br>\n",
    "\n",
    "- $\\textbf{u} \\cdotp \\textbf{w}$\n",
    "= $ 2(2) + (-5)(1) + 4(-3) + 6(0) + (-3)(0) $<br>\n",
    "= $ 4 - 5 - 12 $<br>\n",
    "= $ 13 $<br>"
   ]
  },
  {
   "cell_type": "markdown",
   "id": "ef59675e-9a3c-4697-9643-b40da18939a3",
   "metadata": {},
   "source": [
    "##### Pythonic Solution to 3"
   ]
  },
  {
   "cell_type": "code",
   "execution_count": 44,
   "id": "e25cc1d5-6942-44ba-9b40-2312a66c04aa",
   "metadata": {},
   "outputs": [
    {
     "name": "stdout",
     "output_type": "stream",
     "text": [
      "4u - 3v:  [ -7 -14  13  45   0]\n",
      "5u + 3v -4w:  [ 16 -31  28  16 -23]\n",
      "u.v, v.w, u.w:  -6 ,  5 ,  -13\n",
      "||u||, ||v||, ||w||:  9.486832980505138 ,  9.746794344808963 ,  3.7416573867739413\n",
      "cosθ = (u.v)/||u||||v||:  -0.06488856845230502\n"
     ]
    },
    {
     "ename": "ValueError",
     "evalue": "shapes (5,) and (3,) not aligned: 5 (dim 0) != 3 (dim 0)",
     "output_type": "error",
     "traceback": [
      "\u001b[1;31m---------------------------------------------------------------------------\u001b[0m",
      "\u001b[1;31mValueError\u001b[0m                                Traceback (most recent call last)",
      "Cell \u001b[1;32mIn[44], line 11\u001b[0m\n\u001b[0;32m      9\u001b[0m \u001b[38;5;28mprint\u001b[39m(\u001b[38;5;124m\"\u001b[39m\u001b[38;5;124m||u||, ||v||, ||w||: \u001b[39m\u001b[38;5;124m\"\u001b[39m, np\u001b[38;5;241m.\u001b[39msqrt(u\u001b[38;5;241m.\u001b[39mdot(u)),\u001b[38;5;124m\"\u001b[39m\u001b[38;5;124m, \u001b[39m\u001b[38;5;124m\"\u001b[39m, np\u001b[38;5;241m.\u001b[39msqrt(v\u001b[38;5;241m.\u001b[39mdot(v)),\u001b[38;5;124m\"\u001b[39m\u001b[38;5;124m, \u001b[39m\u001b[38;5;124m\"\u001b[39m, np\u001b[38;5;241m.\u001b[39msqrt(w\u001b[38;5;241m.\u001b[39mdot(w)))\n\u001b[0;32m     10\u001b[0m \u001b[38;5;28mprint\u001b[39m(\u001b[38;5;124m\"\u001b[39m\u001b[38;5;124mcosθ = (u.v)/||u||||v||: \u001b[39m\u001b[38;5;124m\"\u001b[39m, u\u001b[38;5;241m.\u001b[39mdot(v) \u001b[38;5;241m/\u001b[39m (np\u001b[38;5;241m.\u001b[39mlinalg\u001b[38;5;241m.\u001b[39mnorm(u) \u001b[38;5;241m*\u001b[39m np\u001b[38;5;241m.\u001b[39mlinalg\u001b[38;5;241m.\u001b[39mnorm(v)))\n\u001b[1;32m---> 11\u001b[0m \u001b[38;5;28mprint\u001b[39m(\u001b[38;5;124m\"\u001b[39m\u001b[38;5;124mcosα = (v.w)/||v||||w||: \u001b[39m\u001b[38;5;124m\"\u001b[39m, \u001b[43mv\u001b[49m\u001b[38;5;241;43m.\u001b[39;49m\u001b[43mdot\u001b[49m\u001b[43m(\u001b[49m\u001b[43mw\u001b[49m\u001b[43m)\u001b[49m \u001b[38;5;241m/\u001b[39m (np\u001b[38;5;241m.\u001b[39mlinalg\u001b[38;5;241m.\u001b[39mnorm(v) \u001b[38;5;241m*\u001b[39m np\u001b[38;5;241m.\u001b[39mlinalg\u001b[38;5;241m.\u001b[39mnorm(w)))\n\u001b[0;32m     12\u001b[0m \u001b[38;5;66;03m#print(\"cosβ = (u.w)/||u||||w||: \", u.dot(w) / (np.linalg.norm(u) * np.linalg.norm(w)))\u001b[39;00m\n\u001b[0;32m     13\u001b[0m \u001b[38;5;28mprint\u001b[39m(\u001b[38;5;124m\"\u001b[39m\u001b[38;5;124md(u,v): \u001b[39m\u001b[38;5;124m\"\u001b[39m, np\u001b[38;5;241m.\u001b[39mlinalg\u001b[38;5;241m.\u001b[39mnorm(u\u001b[38;5;241m-\u001b[39mv))\n",
      "\u001b[1;31mValueError\u001b[0m: shapes (5,) and (3,) not aligned: 5 (dim 0) != 3 (dim 0)"
     ]
    }
   ],
   "source": [
    "import numpy as np\n",
    "u = np.array([2, -5, 4, 6, -3])   # vector u\n",
    "v = np.array([5, -2, 1, -7, -4])   # vector v\n",
    "w = np.array([2,1,-3])   # vector w\n",
    "\n",
    "print(\"4u - 3v: \", (4*u) - (3*v))\n",
    "print(\"5u + 3v -4w: \", (5*u) + (2*v) - (2*(np.append(w, [0,0]))))\n",
    "print(\"u.v, v.w, u.w: \", u.dot(v),\", \", v.dot((np.append(w, [0,0]))),\", \", u.dot((np.append(w, [0,0]))))\n",
    "print(\"||u||, ||v||, ||w||: \", np.sqrt(u.dot(u)),\", \", np.sqrt(v.dot(v)),\", \", np.sqrt(w.dot(w)))\n",
    "print(\"cosθ = (u.v)/||u||||v||: \", u.dot(v) / (np.linalg.norm(u) * np.linalg.norm(v)))\n",
    "#print(\"cosα = (v.w)/||v||||w||: \", v.dot(w) / (np.linalg.norm(v) * np.linalg.norm(w)))\n",
    "#print(\"cosβ = (u.w)/||u||||w||: \", u.dot(w) / (np.linalg.norm(u) * np.linalg.norm(w)))\n",
    "print(\"d(u,v): \", np.linalg.norm(u-v))\n",
    "#print(\"d(w,v): \", np.linalg.norm(w-v))\n",
    "#print(\"d(u,w): \", np.linalg.norm(u-w))\n",
    "print(\"proj(u, v)\", u.dot(v)*v/(np.linalg.norm(v)**2))\n",
    "#print(\"proj(w, v)\", w.dot(v)*v/(np.linalg.norm(v)**2))\n",
    "#print(\"proj(u, w)\", u.dot(w)*w/(np.linalg.norm(w)**2))"
   ]
  },
  {
   "cell_type": "markdown",
   "id": "d85353c8-a087-4a1e-9b45-8f849aa6be51",
   "metadata": {},
   "source": [
    "#### 4. Normalize each vector:<br>"
   ]
  },
  {
   "cell_type": "markdown",
   "id": "98642c38-fd01-45f0-9491-42a2c03f1031",
   "metadata": {},
   "source": [
    "##### Manual Solution for 4"
   ]
  },
  {
   "cell_type": "markdown",
   "id": "06ff05c3-cccb-4b57-ac56-347cdf8a2f99",
   "metadata": {},
   "source": [
    "a. $\\textbf{u}$ = (5,-7).<br>\n",
    "b. $\\textbf{v}$ = (1,2,-2,4).<br>\n",
    "c. $\\textbf{w} = (\\frac{1}{2},\\frac{-1}{3},\\frac{3}{4})$.<br>"
   ]
  },
  {
   "cell_type": "markdown",
   "id": "d308dc5c-8569-4c3f-9c4b-b087738e0ad8",
   "metadata": {},
   "source": [
    "a. $\\textbf{u}$ = (5,-7).<br>\n",
    "||$\\textbf{u}$|| = $\\sqrt{\\textbf{u}.\\textbf{u}} = \\sqrt{5^{2}+(-7)^{2}} = \\sqrt{25+49} = \\sqrt{74}$<br>"
   ]
  },
  {
   "cell_type": "markdown",
   "id": "888128fb-ef51-453c-92bd-729c8321d23b",
   "metadata": {},
   "source": [
    "b. $\\textbf{v}$ = (1,2,-2,4).<br>\n",
    "||$\\textbf{v}$|| = $\\sqrt{\\textbf{v}.\\textbf{v}} = \\sqrt{1^{2}+2^{2}+(-2)^{2}+4^{2}} = \\sqrt{1+4+4+16} = \\sqrt{25} = 5$<br>"
   ]
  },
  {
   "cell_type": "markdown",
   "id": "2cc6cc94-b57a-41d8-a556-eb943b6b5c1f",
   "metadata": {},
   "source": [
    "c. $\\textbf{w} = (\\frac{1}{2},\\frac{-1}{3},\\frac{3}{4})$.<br>\n",
    "||$\\textbf{w}$|| = $\\sqrt{\\textbf{w}.\\textbf{w}} = \\sqrt{(\\frac{1}{2})^{2} + (-\\frac{1}{3})^{2} + (\\frac{3}{4})^{2}} = \\sqrt{(\\frac{1}{4}) + (\\frac{1}{9}) + (\\frac{9}{16})} = \\sqrt{(\\frac{36}{144}) + (-\\frac{16}{144}) + (\\frac{81}{144})} = \\sqrt{\\frac{133}{144}} $<br>"
   ]
  },
  {
   "cell_type": "markdown",
   "id": "9a04f4e0-2a3d-429d-8448-15583b9aab55",
   "metadata": {},
   "source": [
    "##### Pythonic Solution for 4"
   ]
  },
  {
   "cell_type": "code",
   "execution_count": 32,
   "id": "456f2f4f-44ed-4332-8dbd-8517ddb0b932",
   "metadata": {},
   "outputs": [
    {
     "name": "stdout",
     "output_type": "stream",
     "text": [
      "||u||:  8.602325267042627\n",
      "||v||:  5.0\n",
      "||w||:  0.961046882889233\n"
     ]
    }
   ],
   "source": [
    "import numpy as np\n",
    "u = np.array([5,-7])   # vector u\n",
    "v = np.array([1,2,-2,4])   # vector v\n",
    "w = np.array([1/2,-1/3,3/4]) # vector w\n",
    "\n",
    "print(\"||u||: \", np.sqrt(u.dot(u)))\n",
    "print(\"||v||: \", np.sqrt(v.dot(v)))\n",
    "print(\"||w||: \", np.sqrt(w.dot(w)))"
   ]
  },
  {
   "cell_type": "markdown",
   "id": "4ca707aa-7408-4099-a282-d83e18b5b9a3",
   "metadata": {},
   "source": [
    "#### 5. Let $\\textbf{u} = (1,2,-2)$,$\\textbf{v} = (3,-12,4)$ and a scalar $k = -3$: <br>\n",
    "Find $||u||, ||v||, ||u+v||, ||ku||$.<br>"
   ]
  },
  {
   "cell_type": "markdown",
   "id": "51fb47b1-3037-4f1d-8092-33f1eab5fe6f",
   "metadata": {},
   "source": [
    "##### Manual Solution for 5"
   ]
  },
  {
   "cell_type": "markdown",
   "id": "00028039-6893-4092-b9ea-2d136252b4c5",
   "metadata": {},
   "source": [
    "- ||$\\textbf{u}$|| = $\\sqrt{\\textbf{u}.\\textbf{u}} = \\sqrt{1^{2}+2^{2}+(-2)^{2}} = \\sqrt{1+4+4} = \\sqrt{9} = 3$<br>"
   ]
  },
  {
   "cell_type": "markdown",
   "id": "e228da87-70c8-4dfb-9b21-079a963dd69a",
   "metadata": {},
   "source": [
    "- ||$\\textbf{v}$|| = $\\sqrt{\\textbf{v}.\\textbf{v}} = \\sqrt{3^{2}+(-12)^{2}+4^{2}} = \\sqrt{9+144+16} = \\sqrt{169} = 13$<br>"
   ]
  },
  {
   "cell_type": "markdown",
   "id": "d95a4f9c-1da4-4620-aceb-33890c2fa727",
   "metadata": {},
   "source": [
    "- ||$\\textbf{u+v}$|| = solve for u+v<br>\n",
    "$\\textbf{u+v}$ = $(1,2,-2) + (3,-12,4) = (4, -10, 2)$<br>\n",
    "||$\\textbf{u+v}$|| = $\\sqrt{4^{2} + (-10)^{2} + 2^{2}} = \\sqrt{16+100+4} $ <br>\n",
    "$= \\sqrt{120} = \\sqrt{4(30)} = 2\\sqrt{30}$"
   ]
  },
  {
   "cell_type": "markdown",
   "id": "f7188279-183f-4388-9d2b-40e2761f4bcf",
   "metadata": {},
   "source": [
    "- $||ku|| => ku = -3(1, 2, -2) = (-3, -6, 6) $ <br>\n",
    "  $ =\\sqrt{(-3)^{2} + (-6)^{2} + 6^{2}} $\n",
    "  $ =\\sqrt{9 + 36 + 36} = \\sqrt{81} = 9 $"
   ]
  },
  {
   "cell_type": "markdown",
   "id": "ef96e9e9-4042-418d-93ea-d9fddc6293d9",
   "metadata": {},
   "source": [
    "##### Pythonic Solution for 5"
   ]
  },
  {
   "cell_type": "code",
   "execution_count": 33,
   "id": "6d37a80e-93de-4252-a8ae-4933bcba68a4",
   "metadata": {},
   "outputs": [
    {
     "name": "stdout",
     "output_type": "stream",
     "text": [
      "||u||:  3.0\n",
      "||v||:  13.0\n",
      "||u+v||:  10.954451150103322\n",
      "||ku||:  9.0\n"
     ]
    }
   ],
   "source": [
    "import numpy as np\n",
    "u = np.array([1,2,-2])   # vector u\n",
    "v = np.array([3,-12,4])   # vector v\n",
    "k = -3 # vector w\n",
    "\n",
    "print(\"||u||: \", np.sqrt(u.dot(u)))\n",
    "print(\"||v||: \", np.sqrt(v.dot(v)))\n",
    "print(\"||u+v||: \", np.sqrt((u+v).dot(u+v)))\n",
    "print(\"||ku||: \", np.sqrt((k*u).dot(k*u)))"
   ]
  },
  {
   "cell_type": "markdown",
   "id": "d13ee056-932a-4e30-ae90-23798e8ca798",
   "metadata": {},
   "source": [
    "#### 6. Find k so that $\\textbf{u}  \\ and \\  \\textbf{v}$ are orthogonal."
   ]
  },
  {
   "cell_type": "markdown",
   "id": "fff13155-ffde-4fdb-999c-3cb93b4ff53e",
   "metadata": {},
   "source": [
    "##### Manual Solution for 6"
   ]
  },
  {
   "cell_type": "markdown",
   "id": "c17e71ef-0f64-4d2e-98e8-09ef20cb91a6",
   "metadata": {},
   "source": [
    "- a. $\\textbf{u} = (3, k, -2), \\textbf{v} = (6, -4, -3)$.<br>\n",
    "  $\\textbf{u}.\\textbf{v} = 0 $ <br>\n",
    "  -> $ (3)(6) + k(-4) + (-2)(-3) = 0 $ <br>\n",
    "  -> $ 18 - 4k + 6 = 0 $ <br>\n",
    "  -> $ 24 - 4k = 0 $ <br>\n",
    "  -> $ \\frac{24}{4} = \\frac{4k}{4} $ <br>\n",
    "  -> $ k = 6 $<br>"
   ]
  },
  {
   "cell_type": "markdown",
   "id": "da44502c-a761-4d30-b19c-574164caf899",
   "metadata": {},
   "source": [
    "- b. $\\textbf{u} = (5,k,-4,2), \\textbf{v} = (1,-3,2,2k)$.<br>\n",
    "  $\\textbf{u}.\\textbf{v} = 0 $ <br>\n",
    "  -> $ (5)(1) + k(-3) + (-4)(2) + (2)(2k) = 0 $ <br>\n",
    "  -> $ 5 - k3 - 8 + 4k = 0 $ <br>\n",
    "  -> $ -3 + k = 0 $ <br>\n",
    "  -> $ k = 3 $<br>"
   ]
  },
  {
   "cell_type": "markdown",
   "id": "a958a54b-0ec0-4253-91b3-e9150c5302b0",
   "metadata": {},
   "source": [
    "- c. $\\textbf{u} = (1,7,k+2,-2), \\textbf{v} = (3, k, -3,k)$.<br>\n",
    "  $\\textbf{u}.\\textbf{v} = 0 $ <br>\n",
    "  -> $ (1)(3) + 7k + (k+2)(-3) + (2)k = 0 $ <br>\n",
    "  -> $ 3 + 6k - 3k - 2k = 0 $ <br>\n",
    "  -> $ 3 + k = 0 $ <br>\n",
    "  -> $ k = -3 $<br>"
   ]
  },
  {
   "cell_type": "markdown",
   "id": "95238bbd-93cc-43d0-9a4b-aba5dd1fdf58",
   "metadata": {},
   "source": [
    "##### Pythonic Solution for 6"
   ]
  },
  {
   "cell_type": "code",
   "execution_count": 37,
   "id": "bf77232e-1bf8-4515-bd02-4a418bdb0b5e",
   "metadata": {},
   "outputs": [
    {
     "name": "stdout",
     "output_type": "stream",
     "text": [
      "a) k=  [6]\n",
      "b) k=  [3]\n",
      "c) k=  [-3]\n"
     ]
    }
   ],
   "source": [
    "import numpy as np\n",
    "from sympy import symbols, solve\n",
    "k = symbols('k')\n",
    "\n",
    "print(\"a) k= \", solve(18-4*k+6))\n",
    "print(\"b) k= \", solve(5-k*3-8+4*k))\n",
    "print(\"c) k= \", solve(3+6*k-3*k-2*k))"
   ]
  },
  {
   "cell_type": "code",
   "execution_count": null,
   "id": "b7273ae2-4fac-4b49-ab76-bae213d737ef",
   "metadata": {},
   "outputs": [],
   "source": []
  },
  {
   "cell_type": "code",
   "execution_count": null,
   "id": "88485090-dcc0-4ece-9acf-8eeeb0358a59",
   "metadata": {},
   "outputs": [],
   "source": []
  }
 ],
 "metadata": {
  "kernelspec": {
   "display_name": "Python 3 (ipykernel)",
   "language": "python",
   "name": "python3"
  },
  "language_info": {
   "codemirror_mode": {
    "name": "ipython",
    "version": 3
   },
   "file_extension": ".py",
   "mimetype": "text/x-python",
   "name": "python",
   "nbconvert_exporter": "python",
   "pygments_lexer": "ipython3",
   "version": "3.11.0"
  }
 },
 "nbformat": 4,
 "nbformat_minor": 5
}
