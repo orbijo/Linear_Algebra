{
 "cells": [
  {
   "cell_type": "markdown",
   "id": "783d8b53-9a46-4157-add8-91b9b54088ae",
   "metadata": {},
   "source": [
    "1. Let $\\textbf{u} = (1, -2, 4)$ and $\\textbf{v} = (3,5,1)$ $\\textbf{w} = (2,1,-3)$ find:<br>"
   ]
  },
  {
   "cell_type": "markdown",
   "id": "e8048b29-20a8-4ce8-8b90-771041723aab",
   "metadata": {
    "jp-MarkdownHeadingCollapsed": true
   },
   "source": [
    "##### Manual Solution to 1\n",
    "a. $3\\textbf{u}-2\\textbf{v}$<br>\n",
    "$= 3\\textbf{u}-2\\textbf{v} = 3(1, -2, 4) - 2(3, 5, 1)$<br>\n",
    "$= (3, -6, 12) - (6, 10, 2)$<br>\n",
    "$= (-3, -16, 10)$<br>\n",
    "\n",
    "b. $5\\textbf{u}+3\\textbf{v}-4\\textbf{w}$<br>\n",
    "$= 5(1,-2,4) + 3(3,5,1) - 4(2,1,-3)$<br>\n",
    "$= (14, 5, 23) - (8, 4, -12)$<br>\n",
    "$= (6, 1, 35)$<br>\n",
    "\n",
    "c. $\\textbf{u} \\cdotp \\textbf{v}$,$\\textbf{v} \\cdotp \\textbf{w}$, $\\textbf{u} \\cdotp \\textbf{w}$<br>\n",
    " $\\textbf{u} \\cdotp \\textbf{v} = 1(3)-2(5)+4(1)=3$<br>\n",
    " $\\textbf{v} \\cdotp \\textbf{w} = 3(2)+5(1)+1(-3)=8$<br>\n",
    " $\\textbf{u} \\cdotp \\textbf{w} = 1(2)-2(1)+4(-3)=-12$<br>\n",
    "\n",
    "d. ||$\\textbf{u}$||, ||$\\textbf{v}$||, ||$\\textbf{w}$||<br>\n",
    "||$\\textbf{u}$|| = $\\sqrt{\\textbf{u}.\\textbf{u}} = \\sqrt{1^{2}+(-2)^{2}+4^{2}}$ = $\\sqrt{21}$<br>\n",
    "||$\\textbf{v}$|| = $\\sqrt{\\textbf{v}.\\textbf{v}} = \\sqrt{3^{2}+5^{2}+1^{2}}$ = $\\sqrt{35}$<br>\n",
    "||$\\textbf{w}$|| = $\\sqrt{\\textbf{w}.\\textbf{w}} = \\sqrt{2^{2}+1^{2}+(-3)^{2}}$ = $\\sqrt{14}$<br>\n",
    "\n",
    "e. If $\\theta$ is the angle between $\\textbf{u}$  and   $\\textbf{v}$, find $\\cos{\\theta}$.<br>\n",
    "$\\cos{\\theta}=\\frac{\\textbf{u} \\cdotp \\textbf{v}}{||\\textbf{u}|| \\ ||\\textbf{v}||}$\n",
    "$=\\frac{1(3)-2(5)+4(1)}{\\sqrt{1^{2}+(-2)^{2}+4^{2}}\\sqrt{3^{2}+5^{2}+1^{2}}}$\n",
    "\n",
    "f. If $\\alpha$ is the angle between $\\textbf{v}$  and   $\\textbf{w}$, find $\\cos{\\alpha}$.<br>\n",
    "\n",
    "g. If $\\beta$ is the angle between $\\textbf{u}$  and   $\\textbf{w}$, find $\\cos{\\beta}$.<br>\n",
    "\n"
   ]
  },
  {
   "cell_type": "markdown",
   "id": "9be13780-5229-4919-a24e-0ed642d2bef4",
   "metadata": {},
   "source": [
    "##### Pythonic Solution to 1"
   ]
  },
  {
   "cell_type": "code",
   "execution_count": 13,
   "id": "be42cd97-6dbd-4d16-8329-b33cdbfc15a9",
   "metadata": {},
   "outputs": [
    {
     "name": "stdout",
     "output_type": "stream",
     "text": [
      "3u - 2v:  [ -3 -16  10]\n",
      "5u + 3v -4w:  [ 6  1 35]\n",
      "u.v, v.w, u.w:  -3 ,  8 ,  -12\n",
      "||u||, ||v||, ||w||:  4.58257569495584 ,  5.916079783099616 ,  3.7416573867739413\n",
      "cosθ = (u.v)/||u||||v||:  -0.11065666703449763\n",
      "cosα = (v.w)/||v||||w||:  0.36140316116210053\n",
      "cosβ = (u.w)/||u||||w||:  -0.6998542122237653\n",
      "d(u,v):  7.874007874011811\n",
      "d(w,v):  5.744562646538029\n",
      "d(u,w):  7.681145747868608\n",
      "proj(u, v) [-0.25714286 -0.42857143 -0.08571429]\n",
      "proj(w, v) [0.68571429 1.14285714 0.22857143]\n",
      "proj(u, w) [-1.71428571 -0.85714286  2.57142857]\n"
     ]
    }
   ],
   "source": [
    "import numpy as np\n",
    "u = np.array([1, -2, 4])   # vector u\n",
    "v = np.array([3,5,1])   # vector v\n",
    "w = np.array([2,1,-3])   # vector w\n",
    "\n",
    "print(\"3u - 2v: \", (3*u) - (2*v))\n",
    "print(\"5u + 3v -4w: \", (5*u) + (3*v) - (4*w))\n",
    "print(\"u.v, v.w, u.w: \", u.dot(v),\", \", v.dot(w),\", \", u.dot(w))\n",
    "print(\"||u||, ||v||, ||w||: \", np.sqrt(u.dot(u)),\", \", np.sqrt(v.dot(v)),\", \", np.sqrt(w.dot(w)))\n",
    "print(\"cosθ = (u.v)/||u||||v||: \", u.dot(v) / (np.linalg.norm(u) * np.linalg.norm(v)))\n",
    "print(\"cosα = (v.w)/||v||||w||: \", v.dot(w) / (np.linalg.norm(v) * np.linalg.norm(w)))\n",
    "print(\"cosβ = (u.w)/||u||||w||: \", u.dot(w) / (np.linalg.norm(u) * np.linalg.norm(w)))\n",
    "print(\"d(u,v): \", np.linalg.norm(u-v))\n",
    "print(\"d(w,v): \", np.linalg.norm(w-v))\n",
    "print(\"d(u,w): \", np.linalg.norm(u-w))\n",
    "print(\"proj(u, v)\", u.dot(v)*v/(np.linalg.norm(v)**2))\n",
    "print(\"proj(w, v)\", w.dot(v)*v/(np.linalg.norm(v)**2))\n",
    "print(\"proj(u, w)\", u.dot(w)*w/(np.linalg.norm(w)**2))"
   ]
  },
  {
   "cell_type": "code",
   "execution_count": null,
   "id": "5cb97d83-7058-4a83-aebe-e4afc61a6c1e",
   "metadata": {},
   "outputs": [],
   "source": []
  },
  {
   "cell_type": "code",
   "execution_count": null,
   "id": "dec28110-897e-4149-afeb-4a8afa60d16b",
   "metadata": {},
   "outputs": [],
   "source": []
  }
 ],
 "metadata": {
  "kernelspec": {
   "display_name": "Python 3 (ipykernel)",
   "language": "python",
   "name": "python3"
  },
  "language_info": {
   "codemirror_mode": {
    "name": "ipython",
    "version": 3
   },
   "file_extension": ".py",
   "mimetype": "text/x-python",
   "name": "python",
   "nbconvert_exporter": "python",
   "pygments_lexer": "ipython3",
   "version": "3.11.0"
  }
 },
 "nbformat": 4,
 "nbformat_minor": 5
}
