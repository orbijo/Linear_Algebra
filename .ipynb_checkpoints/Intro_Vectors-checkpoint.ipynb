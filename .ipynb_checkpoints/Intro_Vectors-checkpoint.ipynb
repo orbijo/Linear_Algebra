{
 "cells": [
  {
   "cell_type": "code",
   "execution_count": null,
   "id": "3e7af561-ddc7-43ba-bfa5-318120f11911",
   "metadata": {},
   "outputs": [],
   "source": [
    "\\documentclass[12pt]{article}\n",
    "\\usepackage{lingmacros}\n",
    "\\usepackage{tree-dvips}\n",
    "\\begin{document}\n",
    "\n",
    "\\section*{Notes for My Paper}\n",
    "\n",
    "Don't forget to include examples of topicalization.\n",
    "They look like this:\n",
    "\n",
    "{\\small\n",
    "\\enumsentence{Topicalization from sentential subject:\\\\\n",
    "\\shortex{7}{a John$_i$ [a & kltukl & [el &\n",
    "  {\\bf l-}oltoir & er & ngii$_i$ & a Mary]]}\n",
    "{ & {\\bf R-}clear & {\\sc comp} &\n",
    "  {\\bf IR}.{\\sc 3s}-love   & P & him & }\n",
    "{John, (it's) clear that Mary loves (him).}}\n",
    "}\n",
    "\n",
    "\\subsection*{How to handle topicalization}\n",
    "\n",
    "I'll just assume a tree structure like (\\ex{1}).\n",
    "\n",
    "{\\small\n",
    "\\enumsentence{Structure of A$'$ Projections:\\\\ [2ex]\n",
    "\\begin{tabular}[t]{cccc}\n",
    "    & \\node{i}{CP}\\\\ [2ex]\n",
    "    \\node{ii}{Spec} &   &\\node{iii}{C$'$}\\\\ [2ex]\n",
    "        &\\node{iv}{C} & & \\node{v}{SAgrP}\n",
    "\\end{tabular}\n",
    "\\nodeconnect{i}{ii}\n",
    "\\nodeconnect{i}{iii}\n",
    "\\nodeconnect{iii}{iv}\n",
    "\\nodeconnect{iii}{v}\n",
    "}\n",
    "}\n",
    "\n",
    "\\subsection*{Mood}\n",
    "\n",
    "Mood changes when there is a topic, as well as when\n",
    "there is WH-movement.  \\emph{Irrealis} is the mood when\n",
    "there is a non-subject topic or WH-phrase in Comp.\n",
    "\\emph{Realis} is the mood when there is a subject topic\n",
    "or WH-phrase.\n",
    "\n",
    "\\end{document}"
   ]
  }
 ],
 "metadata": {
  "kernelspec": {
   "display_name": "Python 3 (ipykernel)",
   "language": "python",
   "name": "python3"
  },
  "language_info": {
   "codemirror_mode": {
    "name": "ipython",
    "version": 3
   },
   "file_extension": ".py",
   "mimetype": "text/x-python",
   "name": "python",
   "nbconvert_exporter": "python",
   "pygments_lexer": "ipython3",
   "version": "3.11.0"
  }
 },
 "nbformat": 4,
 "nbformat_minor": 5
}
