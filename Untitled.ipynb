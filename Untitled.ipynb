{
 "cells": [
  {
   "cell_type": "code",
   "execution_count": 1,
   "id": "4efb06b2-7acc-4b1a-a91b-eabae1b1fe63",
   "metadata": {},
   "outputs": [
    {
     "name": "stdout",
     "output_type": "stream",
     "text": [
      "Distance between u and v: 7.874007874011811\n",
      "Distance between w and v: 5.744562646538029\n",
      "Distance between u and w: 7.681145747868608\n"
     ]
    }
   ],
   "source": [
    "import numpy as np\n",
    "\n",
    "u = np.array([1, -2, 4])\n",
    "v = np.array([3, 5, 1])\n",
    "w = np.array([2, 1, -3])\n",
    "\n",
    "distance_uv = np.linalg.norm(u - v)\n",
    "distance_wv = np.linalg.norm(w - v)\n",
    "distance_uw = np.linalg.norm(u - w)\n",
    "\n",
    "print(\"Distance between u and v:\", distance_uv)\n",
    "print(\"Distance between w and v:\", distance_wv)\n",
    "print(\"Distance between u and w:\", distance_uw)"
   ]
  },
  {
   "cell_type": "code",
   "execution_count": null,
   "id": "fef2ace9-02ad-473f-980f-5e492aa77840",
   "metadata": {},
   "outputs": [],
   "source": []
  }
 ],
 "metadata": {
  "kernelspec": {
   "display_name": "Python 3 (ipykernel)",
   "language": "python",
   "name": "python3"
  },
  "language_info": {
   "codemirror_mode": {
    "name": "ipython",
    "version": 3
   },
   "file_extension": ".py",
   "mimetype": "text/x-python",
   "name": "python",
   "nbconvert_exporter": "python",
   "pygments_lexer": "ipython3",
   "version": "3.11.0"
  }
 },
 "nbformat": 4,
 "nbformat_minor": 5
}
