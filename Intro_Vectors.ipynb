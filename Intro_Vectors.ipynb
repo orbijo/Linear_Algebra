{
 "cells": [
  {
   "cell_type": "markdown",
   "id": "783d8b53-9a46-4157-add8-91b9b54088ae",
   "metadata": {},
   "source": [
    "1. Let $\\textbf{u} = (1, -2, 4)$ and $\\textbf{v} = (3,5,1)$ $\\textbf{w} = (2,1,-3)$ find:<br>"
   ]
  },
  {
   "cell_type": "markdown",
   "id": "9080057d-912d-4694-8059-96e93215daa0",
   "metadata": {},
   "source": [
    "a. $3\\textbf{u}-2\\textbf{v}$<br>"
   ]
  },
  {
   "cell_type": "markdown",
   "id": "e8048b29-20a8-4ce8-8b90-771041723aab",
   "metadata": {},
   "source": [
    "##### Manual Solution to 1\n",
    "$= 3\\textbf{u}-2\\textbf{v} = 3(1, -2, 4) - 2(3, 5, 1)$<br>\n",
    "$= (3, -6, 12) - (6, 10, 2)$<br>\n",
    "$= (-3, -16, 10)$<br>"
   ]
  },
  {
   "cell_type": "markdown",
   "id": "9be13780-5229-4919-a24e-0ed642d2bef4",
   "metadata": {},
   "source": [
    "##### Pythonic Solution to 1"
   ]
  },
  {
   "cell_type": "code",
   "execution_count": 6,
   "id": "be42cd97-6dbd-4d16-8329-b33cdbfc15a9",
   "metadata": {},
   "outputs": [
    {
     "name": "stdout",
     "output_type": "stream",
     "text": [
      "3u - 2v:  [ -3 -16  10]\n",
      "5u + 3v -4w:  [ 6  1 35]\n",
      "u.v, v.w, u.w:  -3 ,  8 ,  -12\n"
     ]
    }
   ],
   "source": [
    "import numpy as np\n",
    "u = np.array([1, -2, 4])   # vector u\n",
    "v = np.array([3,5,1])   # vector v\n",
    "w = np.array([2,1,-3])   # vector w\n",
    "\n",
    "print(\"3u - 2v: \", (3*u) - (2*v))\n",
    "print(\"5u + 3v -4w: \", (5*u) + (3*v) - (4*w))\n",
    "print(\"u.v, v.w, u.w: \", u.dot(v),\", \", v.dot(w),\", \", u.dot(w))\n",
    "print(\"||u||, ||v||, ||w||: \", )"
   ]
  },
  {
   "cell_type": "code",
   "execution_count": null,
   "id": "5cb97d83-7058-4a83-aebe-e4afc61a6c1e",
   "metadata": {},
   "outputs": [],
   "source": []
  }
 ],
 "metadata": {
  "kernelspec": {
   "display_name": "Python 3 (ipykernel)",
   "language": "python",
   "name": "python3"
  },
  "language_info": {
   "codemirror_mode": {
    "name": "ipython",
    "version": 3
   },
   "file_extension": ".py",
   "mimetype": "text/x-python",
   "name": "python",
   "nbconvert_exporter": "python",
   "pygments_lexer": "ipython3",
   "version": "3.11.0"
  }
 },
 "nbformat": 4,
 "nbformat_minor": 5
}
