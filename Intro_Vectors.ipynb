{
 "cells": [
  {
   "cell_type": "markdown",
   "id": "783d8b53-9a46-4157-add8-91b9b54088ae",
   "metadata": {},
   "source": [
    "##### 1. Let $\\textbf{u} = (1, -2, 4)$ and $\\textbf{v} = (3,5,1)$ $\\textbf{w} = (2,1,-3)$ find:<br>"
   ]
  },
  {
   "cell_type": "markdown",
   "id": "e8048b29-20a8-4ce8-8b90-771041723aab",
   "metadata": {
    "jp-MarkdownHeadingCollapsed": true
   },
   "source": [
    "##### Manual Solution to 1"
   ]
  },
  {
   "cell_type": "markdown",
   "id": "8e87dee9-c15c-4694-84cf-5525b3a67f50",
   "metadata": {},
   "source": [
    "a. $3\\textbf{u}-2\\textbf{v}$<br>\n",
    "$= 3\\textbf{u}-2\\textbf{v} = 3(1, -2, 4) - 2(3, 5, 1)$<br>\n",
    "$= (3, -6, 12) - (6, 10, 2)$<br>\n",
    "$= (-3, -16, 10)$<br>"
   ]
  },
  {
   "cell_type": "markdown",
   "id": "fb5d448f-2e89-4a2e-ace4-181256927cd0",
   "metadata": {},
   "source": [
    "b. $5\\textbf{u}+3\\textbf{v}-4\\textbf{w}$<br>\n",
    "$= 5(1,-2,4) + 3(3,5,1) - 4(2,1,-3)$<br>\n",
    "$= (14, 5, 23) - (8, 4, -12)$<br>\n",
    "$= (6, 1, 35)$<br>"
   ]
  },
  {
   "cell_type": "markdown",
   "id": "4b7d4658-6b61-48eb-8237-6f2af1897fbb",
   "metadata": {},
   "source": [
    "c. $\\textbf{u} \\cdotp \\textbf{v}$,$\\textbf{v} \\cdotp \\textbf{w}$, $\\textbf{u} \\cdotp \\textbf{w}$<br>\n",
    " $\\textbf{u} \\cdotp \\textbf{v} = 1(3)-2(5)+4(1)=-3$<br>\n",
    " $\\textbf{v} \\cdotp \\textbf{w} = 3(2)+5(1)+1(-3)=8$<br>\n",
    " $\\textbf{u} \\cdotp \\textbf{w} = 1(2)-2(1)+4(-3)=-12$<br>"
   ]
  },
  {
   "cell_type": "markdown",
   "id": "52eac939-dfaa-4587-994e-613c98378999",
   "metadata": {},
   "source": [
    "d. ||$\\textbf{u}$||, ||$\\textbf{v}$||, ||$\\textbf{w}$||<br>\n",
    "||$\\textbf{u}$|| = $\\sqrt{\\textbf{u}.\\textbf{u}} = \\sqrt{1^{2}+(-2)^{2}+4^{2}}$ = $\\sqrt{21}$<br>\n",
    "||$\\textbf{v}$|| = $\\sqrt{\\textbf{v}.\\textbf{v}} = \\sqrt{3^{2}+5^{2}+1^{2}}$ = $\\sqrt{35}$<br>\n",
    "||$\\textbf{w}$|| = $\\sqrt{\\textbf{w}.\\textbf{w}} = \\sqrt{2^{2}+1^{2}+(-3)^{2}}$ = $\\sqrt{14}$<br>"
   ]
  },
  {
   "cell_type": "markdown",
   "id": "a6a73db4-94ed-4582-a88e-fd858fab0c77",
   "metadata": {},
   "source": [
    "e. If $\\theta$ is the angle between $\\textbf{u}$  and   $\\textbf{v}$, find $\\cos{\\theta}$.<br>\n",
    "$\\cos{\\theta}\n",
    "=\\frac{\\textbf{u} \\cdotp \\textbf{v}}{||\\textbf{u}|| \\ ||\\textbf{v}||}$\n",
    "$=\\frac{1(3)-2(5)+4(1)}{\\sqrt{1^{2}+(-2)^{2}+4^{2}}\\sqrt{3^{2}+5^{2}+1^{2}}}$\n",
    "$=\\frac{-3}{\\sqrt{21}\\sqrt{35}}$"
   ]
  },
  {
   "cell_type": "markdown",
   "id": "08bc6ef7-94b9-40c5-9209-548525aa81aa",
   "metadata": {},
   "source": [
    "f. If $\\alpha$ is the angle between $\\textbf{v}$  and   $\\textbf{w}$, find $\\cos{\\alpha}$.<br>\n",
    "$\\cos{\\alpha}\n",
    "=\\frac{\\textbf{v} \\cdotp \\textbf{w}}{||\\textbf{v}|| \\ ||\\textbf{w}||}$\n",
    "$=\\frac{1(3)-2(5)+4(1)}{\\sqrt{3^{2}+5^{2}+1^{2}}\\sqrt{2^{2}+1^{2}+(-3)^{2}}}$\n",
    "$=\\frac{8}{\\sqrt{35}\\sqrt{14}}$"
   ]
  },
  {
   "cell_type": "markdown",
   "id": "2e33d10b-bdc1-413c-a9c0-d7f0977ca214",
   "metadata": {},
   "source": [
    "g. If $\\beta$ is the angle between $\\textbf{u}$  and   $\\textbf{w}$, find $\\cos{\\beta}$.<br>\n",
    "$\\cos{\\alpha}\n",
    "=\\frac{\\textbf{u} \\cdotp \\textbf{w}}{||\\textbf{u}|| \\ ||\\textbf{w}||}$\n",
    "$=\\frac{1(2)-2(1)+4(-3)}{\\sqrt{1^{2}+(-2)^{2}+4^{2}}\\sqrt{2^{2}+1^{2}+(-3)^{2}}}$\n",
    "$=\\frac{-12}{\\sqrt{21}\\sqrt{14}}$"
   ]
  },
  {
   "cell_type": "markdown",
   "id": "6b6b1542-5856-4c49-8e29-6cf8ad9fb062",
   "metadata": {},
   "source": [
    "h. Find $d(\\textbf{u},\\textbf{v})$.<br>\n",
    "$d(\\textbf{u},\\textbf{v}) = ||\\textbf{u} - \\textbf{v}|| = \\sqrt{(1-3)^2 + (-2-5)^2 + (4-1)^2} = \\sqrt{4+49+9} = \\sqrt{62}$."
   ]
  },
  {
   "cell_type": "markdown",
   "id": "0f57be3b-0120-43c4-b1bc-ee575f26f044",
   "metadata": {},
   "source": [
    "i. Find $d(\\textbf{w},\\textbf{v})$.<br>\n",
    "$d(\\textbf{u},\\textbf{w}) = ||\\textbf{u} - \\textbf{w}|| = \\sqrt{(2-3)^2 + (1-5)^2 + (-3-1)^2} = \\sqrt{1+16+16} = \\sqrt{33}$."
   ]
  },
  {
   "cell_type": "markdown",
   "id": "349165e4-a823-4b5d-ae58-7940bfb5dac2",
   "metadata": {},
   "source": [
    "j. Find $d(\\textbf{u},\\textbf{w})$.<br>\n",
    "$d(\\textbf{u},\\textbf{w}) = ||\\textbf{u} - \\textbf{w}|| = \\sqrt{(1-2)^2 + (-2-1)^2 + (4-(-3))^2} = \\sqrt{1+9+49} = \\sqrt{59}$.<br>"
   ]
  },
  {
   "cell_type": "markdown",
   "id": "e6eb3c04-3499-45ca-8e92-92593548053b",
   "metadata": {},
   "source": [
    "k. Find $proj(\\textbf{u},\\textbf{v})$.<br>\n",
    "$proj(\\textbf{u},\\textbf{v}) = \\frac{\\textbf{u} \\cdotp \\textbf{v}}{||\\textbf{v}||^2} \\textbf{v} = \\frac{-3}{(\\sqrt{35})^2}(3,5,1) =-\\frac{3}{35}(3,5,1) = (-\\frac{9}{35},-\\frac{15}{35},-\\frac{3}{35})$"
   ]
  },
  {
   "cell_type": "markdown",
   "id": "b8c9f686-5658-4a71-b1d5-1ee2d4c739f9",
   "metadata": {},
   "source": [
    "l. Find $proj(\\textbf{w},\\textbf{v})$.<br>\n",
    "$proj(\\textbf{w},\\textbf{v}) = \\frac{\\textbf{w} \\cdotp \\textbf{v}}{||\\textbf{v}||^2} \\textbf{v} = \\frac{8}{(\\sqrt{35})^2}(3,5,1) =\\frac{8}{35}(3,5,1) = (\\frac{32}{35},\\frac{8}{7},\\frac{8}{35})$"
   ]
  },
  {
   "cell_type": "markdown",
   "id": "201f53fb-1efe-4417-be3f-62ca44e73c5b",
   "metadata": {},
   "source": [
    "m. Find $proj(\\textbf{u},\\textbf{w})$. <br>\n",
    "$proj(\\textbf{u},\\textbf{w}) = \\frac{\\textbf{u} \\cdotp \\textbf{w}}{||\\textbf{w}||^2} \\textbf{w} = \\frac{-12}{(\\sqrt{14})^2}(2,1,-3) =\\frac{-12}{14}(2,1,-3) = -\\frac{6}{7}(2,1,-3) = (-\\frac{12}{7},-\\frac{6}{7},\\frac{18}{7})$"
   ]
  },
  {
   "cell_type": "markdown",
   "id": "9be13780-5229-4919-a24e-0ed642d2bef4",
   "metadata": {
    "jp-MarkdownHeadingCollapsed": true
   },
   "source": [
    "##### Pythonic Solution"
   ]
  },
  {
   "cell_type": "markdown",
   "id": "773cc532-88c1-498f-8900-906b2411df17",
   "metadata": {},
   "source": [
    "2. Repeat problem 1 with the following column vectors:\n",
    "\\begin{align}\n",
    "    \\textbf{u} &= \\begin{bmatrix}\n",
    "           1 \\\\\n",
    "           3 \\\\\n",
    "           -4\n",
    "         \\end{bmatrix}, \\textbf{v} = \\begin{bmatrix}\n",
    "           2 \\\\\n",
    "           1 \\\\\n",
    "           5\n",
    "         \\end{bmatrix}, \\textbf{w} = \\begin{bmatrix}\n",
    "           3 \\\\\n",
    "           -2 \\\\\n",
    "           6\n",
    "         \\end{bmatrix}\n",
    "  \\end{align}"
   ]
  },
  {
   "cell_type": "markdown",
   "id": "2359fdfc-e423-46f4-aeba-0224c679198e",
   "metadata": {},
   "source": [
    "##### Manual Solution to 2"
   ]
  },
  {
   "cell_type": "markdown",
   "id": "6f63bf41-a122-4fa3-a6e0-3d4085d57a49",
   "metadata": {
    "jp-MarkdownHeadingCollapsed": true
   },
   "source": [
    "##### Pythonic Solution to 2"
   ]
  },
  {
   "cell_type": "code",
   "execution_count": 13,
   "id": "be42cd97-6dbd-4d16-8329-b33cdbfc15a9",
   "metadata": {},
   "outputs": [
    {
     "name": "stdout",
     "output_type": "stream",
     "text": [
      "3u - 2v:  [ -3 -16  10]\n",
      "5u + 3v -4w:  [ 6  1 35]\n",
      "u.v, v.w, u.w:  -3 ,  8 ,  -12\n",
      "||u||, ||v||, ||w||:  4.58257569495584 ,  5.916079783099616 ,  3.7416573867739413\n",
      "cosθ = (u.v)/||u||||v||:  -0.11065666703449763\n",
      "cosα = (v.w)/||v||||w||:  0.36140316116210053\n",
      "cosβ = (u.w)/||u||||w||:  -0.6998542122237653\n",
      "d(u,v):  7.874007874011811\n",
      "d(w,v):  5.744562646538029\n",
      "d(u,w):  7.681145747868608\n",
      "proj(u, v) [-0.25714286 -0.42857143 -0.08571429]\n",
      "proj(w, v) [0.68571429 1.14285714 0.22857143]\n",
      "proj(u, w) [-1.71428571 -0.85714286  2.57142857]\n"
     ]
    }
   ],
   "source": [
    "import numpy as np\n",
    "u = np.array([1, -2, 4])   # vector u\n",
    "v = np.array([3,5,1])   # vector v\n",
    "w = np.array([2,1,-3])   # vector w\n",
    "\n",
    "print(\"3u - 2v: \", (3*u) - (2*v))\n",
    "print(\"5u + 3v -4w: \", (5*u) + (3*v) - (4*w))\n",
    "print(\"u.v, v.w, u.w: \", u.dot(v),\", \", v.dot(w),\", \", u.dot(w))\n",
    "print(\"||u||, ||v||, ||w||: \", np.sqrt(u.dot(u)),\", \", np.sqrt(v.dot(v)),\", \", np.sqrt(w.dot(w)))\n",
    "print(\"cosθ = (u.v)/||u||||v||: \", u.dot(v) / (np.linalg.norm(u) * np.linalg.norm(v)))\n",
    "print(\"cosα = (v.w)/||v||||w||: \", v.dot(w) / (np.linalg.norm(v) * np.linalg.norm(w)))\n",
    "print(\"cosβ = (u.w)/||u||||w||: \", u.dot(w) / (np.linalg.norm(u) * np.linalg.norm(w)))\n",
    "print(\"d(u,v): \", np.linalg.norm(u-v))\n",
    "print(\"d(w,v): \", np.linalg.norm(w-v))\n",
    "print(\"d(u,w): \", np.linalg.norm(u-w))\n",
    "print(\"proj(u, v)\", u.dot(v)*v/(np.linalg.norm(v)**2))\n",
    "print(\"proj(w, v)\", w.dot(v)*v/(np.linalg.norm(v)**2))\n",
    "print(\"proj(u, w)\", u.dot(w)*w/(np.linalg.norm(w)**2))"
   ]
  },
  {
   "cell_type": "code",
   "execution_count": null,
   "id": "6df1db95-5faa-4dde-9325-3cd19a8d3c1b",
   "metadata": {},
   "outputs": [],
   "source": []
  },
  {
   "cell_type": "code",
   "execution_count": null,
   "id": "380b1dbb-053b-4454-a336-bc56e3543723",
   "metadata": {},
   "outputs": [],
   "source": []
  }
 ],
 "metadata": {
  "kernelspec": {
   "display_name": "Python 3 (ipykernel)",
   "language": "python",
   "name": "python3"
  },
  "language_info": {
   "codemirror_mode": {
    "name": "ipython",
    "version": 3
   },
   "file_extension": ".py",
   "mimetype": "text/x-python",
   "name": "python",
   "nbconvert_exporter": "python",
   "pygments_lexer": "ipython3",
   "version": "3.11.0"
  }
 },
 "nbformat": 4,
 "nbformat_minor": 5
}
